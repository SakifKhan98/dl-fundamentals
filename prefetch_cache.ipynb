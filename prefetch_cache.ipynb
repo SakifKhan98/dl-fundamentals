{
 "cells": [
  {
   "cell_type": "code",
   "execution_count": 1,
   "metadata": {},
   "outputs": [],
   "source": [
    "import tensorflow as tf\n",
    "import time"
   ]
  },
  {
   "cell_type": "code",
   "execution_count": 2,
   "metadata": {},
   "outputs": [
    {
     "data": {
      "text/plain": [
       "'2.17.0'"
      ]
     },
     "execution_count": 2,
     "metadata": {},
     "output_type": "execute_result"
    }
   ],
   "source": [
    "tf.__version__"
   ]
  },
  {
   "cell_type": "code",
   "execution_count": 3,
   "metadata": {},
   "outputs": [],
   "source": [
    "class FileDataset(tf.data.Dataset):\n",
    "  def read_file_in_batches(num_samples):\n",
    "    # Opening the file\n",
    "    time.sleep(0.03)\n",
    "\n",
    "    for sample_idx in range(num_samples):\n",
    "      # Reading data (line, record) from the file\n",
    "      time.sleep(0.015)\n",
    "\n",
    "      yield (sample_idx,)\n",
    "\n",
    "  def __new__(cls, num_samples=3):\n",
    "    return tf.data.Dataset.from_generator(\n",
    "      cls.read_file_in_batches,\n",
    "      output_signature = tf.TensorSpec(shape = (1,), dtype = tf.int64),\n",
    "      args=(num_samples,)\n",
    "    )"
   ]
  },
  {
   "cell_type": "code",
   "execution_count": null,
   "metadata": {},
   "outputs": [],
   "source": []
  }
 ],
 "metadata": {
  "kernelspec": {
   "display_name": "base",
   "language": "python",
   "name": "python3"
  },
  "language_info": {
   "codemirror_mode": {
    "name": "ipython",
    "version": 3
   },
   "file_extension": ".py",
   "mimetype": "text/x-python",
   "name": "python",
   "nbconvert_exporter": "python",
   "pygments_lexer": "ipython3",
   "version": "3.12.3"
  }
 },
 "nbformat": 4,
 "nbformat_minor": 2
}
